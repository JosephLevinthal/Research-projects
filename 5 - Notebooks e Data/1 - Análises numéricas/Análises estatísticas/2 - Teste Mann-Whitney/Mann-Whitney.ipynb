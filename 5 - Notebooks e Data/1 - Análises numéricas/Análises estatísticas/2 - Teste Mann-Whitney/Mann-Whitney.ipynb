{
 "cells": [
  {
   "cell_type": "code",
   "execution_count": 1,
   "metadata": {},
   "outputs": [],
   "source": [
    "# Usaremos as bibliotecas: Pandas, Matplotlib, Scipy, Mlxtend\n",
    "\n",
    "import pandas as pd\n",
    "from matplotlib import pyplot\n",
    "from scipy.stats import shapiro, mannwhitneyu\n",
    "from mlxtend.preprocessing import minmax_scaling, standardize"
   ]
  },
  {
   "cell_type": "code",
   "execution_count": 5,
   "metadata": {},
   "outputs": [],
   "source": [
    "df_completa = pd.read_excel(\"dadosSemDesistentes(Merge_completa).xlsx\")\n",
    "df_traducao = pd.read_excel(\"dadosSemDesistentes(Merge_traducao).xlsx\")"
   ]
  },
  {
   "cell_type": "code",
   "execution_count": 86,
   "metadata": {},
   "outputs": [
    {
     "name": "stdout",
     "output_type": "stream",
     "text": [
      "Statistics=3742.000000, p=0.240302\n",
      "Amostras parecem ser da mesma distribuição, com 95% de confiança (não rejeitou H0)\n"
     ]
    },
    {
     "data": {
      "image/png": "[encoded data removed]",
      "text/plain": [
       "<Figure size 432x288 with 1 Axes>"
      ]
     },
     "metadata": {
      "needs_background": "light"
     },
     "output_type": "display_data"
    }
   ],
   "source": [
    "# Teste de comparação não paramétrico entre médias Mann-Whitney, com alpha = 5%\n",
    "data1 = df_completa[\"total_tempo_ide_7\"]\n",
    "data2 = df_traducao[\"total_tempo_ide_7\"]\n",
    "stat, p = mannwhitneyu(data1, data2)\n",
    "print('Statistics=%.6f, p=%.6f' % (stat, p))\n",
    "\n",
    "# Histograma dos dados, para checar distribuição\n",
    "pyplot.hist(data1)\n",
    "pyplot.show\n",
    "pyplot.hist(data2)\n",
    "pyplot.show\n",
    "\n",
    "# Testando se as amostras têm mesma distribuição\n",
    "alpha = 0.05\n",
    "confianca = 100-(alpha*100)\n",
    "if p > alpha:\n",
    "    print('Amostras parecem ser da mesma distribuição, com %d' % (confianca) + '% de confiança (não rejeitou H0)')\n",
    "else:\n",
    "    print('Amostras NÃO parecem ser da mesma distribuição, com %d' % (confianca) + '% de confiança (rejeitou H0)')"
   ]
  },
  {
   "cell_type": "code",
   "execution_count": null,
   "metadata": {},
   "outputs": [],
   "source": []
  }
 ],
 "metadata": {
  "kernelspec": {
   "display_name": "Python 3",
   "language": "python",
   "name": "python3"
  },
  "language_info": {
   "codemirror_mode": {
    "name": "ipython",
    "version": 3
   },
   "file_extension": ".py",
   "mimetype": "text/x-python",
   "name": "python",
   "nbconvert_exporter": "python",
   "pygments_lexer": "ipython3",
   "version": "3.7.4"
  }
 },
 "nbformat": 4,
 "nbformat_minor": 4
}
